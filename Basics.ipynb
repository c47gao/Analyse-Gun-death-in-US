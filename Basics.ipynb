{
 "cells": [
  {
   "cell_type": "code",
   "execution_count": 1,
   "metadata": {
    "collapsed": false
   },
   "outputs": [
    {
     "name": "stdout",
     "output_type": "stream",
     "text": [
      "[['', 'year', 'month', 'intent', 'police', 'sex', 'age', 'race', 'hispanic', 'place', 'education'], ['1', '2012', '01', 'Suicide', '0', 'M', '34', 'Asian/Pacific Islander', '100', 'Home', '4'], ['2', '2012', '01', 'Suicide', '0', 'F', '21', 'White', '100', 'Street', '3'], ['3', '2012', '01', 'Suicide', '0', 'M', '60', 'White', '100', 'Other specified', '4'], ['4', '2012', '02', 'Suicide', '0', 'M', '64', 'White', '100', 'Home', '4']]\n"
     ]
    }
   ],
   "source": []
  },
  {
   "cell_type": "code",
   "execution_count": 3,
   "metadata": {
    "collapsed": false
   },
   "outputs": [
    {
     "name": "stdout",
     "output_type": "stream",
     "text": [
      "[['', 'year', 'month', 'intent', 'police', 'sex', 'age', 'race', 'hispanic', 'place', 'education'], ['1', '2012', '01', 'Suicide', '0', 'M', '34', 'Asian/Pacific Islander', '100', 'Home', '4'], ['2', '2012', '01', 'Suicide', '0', 'F', '21', 'White', '100', 'Street', '3'], ['3', '2012', '01', 'Suicide', '0', 'M', '60', 'White', '100', 'Other specified', '4'], ['4', '2012', '02', 'Suicide', '0', 'M', '64', 'White', '100', 'Home', '4']]\n",
      "['', 'year', 'month', 'intent', 'police', 'sex', 'age', 'race', 'hispanic', 'place', 'education']\n"
     ]
    },
    {
     "ename": "TypeError",
     "evalue": "unhashable type: 'list'",
     "output_type": "error",
     "traceback": [
      "\u001b[1;31m\u001b[0m",
      "\u001b[1;31mTypeError\u001b[0mTraceback (most recent call last)",
      "\u001b[1;32m<ipython-input-3-777f064131bd>\u001b[0m in \u001b[0;36m<module>\u001b[1;34m()\u001b[0m\n\u001b[0;32m     84\u001b[0m     \u001b[1;32mif\u001b[0m \u001b[0mrace\u001b[0m \u001b[1;32mnot\u001b[0m \u001b[1;32min\u001b[0m \u001b[0mhomicide_race_counts\u001b[0m\u001b[1;33m:\u001b[0m\u001b[1;33m\u001b[0m\u001b[0m\n\u001b[0;32m     85\u001b[0m         \u001b[0mhomicide_race_counts\u001b[0m\u001b[1;33m[\u001b[0m\u001b[0mrace\u001b[0m\u001b[1;33m]\u001b[0m \u001b[1;33m=\u001b[0m \u001b[1;36m0\u001b[0m\u001b[1;33m\u001b[0m\u001b[0m\n\u001b[1;32m---> 86\u001b[1;33m         \u001b[0madditional_gender_counts\u001b[0m\u001b[1;33m[\u001b[0m\u001b[0mgenders\u001b[0m\u001b[1;33m]\u001b[0m \u001b[1;33m=\u001b[0m \u001b[1;36m0\u001b[0m\u001b[1;33m\u001b[0m\u001b[0m\n\u001b[0m\u001b[0;32m     87\u001b[0m     \u001b[1;32mif\u001b[0m \u001b[0mintents\u001b[0m\u001b[1;33m[\u001b[0m\u001b[0mi\u001b[0m\u001b[1;33m]\u001b[0m \u001b[1;33m==\u001b[0m \u001b[1;34m\"Homicide\"\u001b[0m\u001b[1;33m:\u001b[0m\u001b[1;33m\u001b[0m\u001b[0m\n\u001b[0;32m     88\u001b[0m         \u001b[0mhomicide_race_counts\u001b[0m\u001b[1;33m[\u001b[0m\u001b[0mrace\u001b[0m\u001b[1;33m]\u001b[0m \u001b[1;33m+=\u001b[0m \u001b[1;36m1\u001b[0m\u001b[1;33m\u001b[0m\u001b[0m\n",
      "\u001b[1;31mTypeError\u001b[0m: unhashable type: 'list'"
     ]
    }
   ],
   "source": [
    "import csv\n",
    "a = open(\"guns.csv\", \"r\")\n",
    "b = csv.reader(a)\n",
    "data = list(b)\n",
    "print(data[:5])\n",
    "\n",
    "headers = data[0]\n",
    "data = data[1:]\n",
    "print(headers)\n",
    "\n",
    "years = [row[1] for row in data]\n",
    "\n",
    "year_counts = {}\n",
    "for year in years:\n",
    "    if year not in year_counts:\n",
    "        year_counts[year] = 0\n",
    "    year_counts[year] += 1\n",
    "\n",
    "year_counts\n",
    "\n",
    "import datetime\n",
    "\n",
    "dates = [datetime.datetime(year=int(row[1]), month=int(row[2]), day=1) for row in data]\n",
    "dates[:5]\n",
    "\n",
    "\n",
    "date_counts = {}\n",
    "\n",
    "for date in dates:\n",
    "    if date not in date_counts:\n",
    "        date_counts[date] = 0\n",
    "    date_counts[date] += 1\n",
    "\n",
    "date_counts\n",
    "\n",
    "sexes = [row[5] for row in data]\n",
    "sex_counts = {}\n",
    "for sex in sexes:\n",
    "    if sex not in sex_counts:\n",
    "        sex_counts[sex] = 0\n",
    "    sex_counts[sex] += 1\n",
    "sex_counts\n",
    "\n",
    "\n",
    "races = [row[7] for row in data]\n",
    "race_counts = {}\n",
    "for race in races:\n",
    "    if race not in race_counts:\n",
    "        race_counts[race] = 0\n",
    "    race_counts[race] += 1\n",
    "race_counts\n",
    "\n",
    "import csv\n",
    "\n",
    "a = open(\"census.csv\", \"r\")\n",
    "b = csv.reader(a)\n",
    "census = list(b)\n",
    "    \n",
    "census\n",
    "\n",
    "\n",
    "mapping = {\n",
    "    \"Asian/Pacific Islander\": 15159516 + 674625,\n",
    "    \"Native American/Native Alaskan\": 3739506,\n",
    "    \"Black\": 40250635,\n",
    "    \"Hispanic\": 44618105,\n",
    "    \"White\": 197318956\n",
    "}\n",
    "\n",
    "race_per_hundredk = {}\n",
    "for key, value in race_counts.items():\n",
    "    race_per_hundredk[key] = (value / mapping[key]) * 100000\n",
    "\n",
    "race_per_hundredk\n",
    "\n",
    "\n",
    "intents = [row[3] for row in data]\n",
    "\n",
    "homicide_race_counts = {}\n",
    "\n",
    "for i,race in enumerate(races):\n",
    "    if race not in homicide_race_counts:\n",
    "        homicide_race_counts[race] = 0\n",
    "    if intents[i] == \"Homicide\":\n",
    "        homicide_race_counts[race] += 1\n",
    "\n",
    "\n",
    "race_per_hundredk = {}\n",
    "for k,v in homicide_race_counts.items():\n",
    "    race_per_hundredk[k] = (v / mapping[k]) * 100000\n",
    "\n",
    "race_per_hundredk\n",
    "\n",
    "education_data = [row[10] for row in data]\n",
    "education_dict = {\n",
    "    \"university or more\": 0,\n",
    "    \"college\":0,\n",
    "    \"high school\":0,\n",
    "    \"less than high school\":0\n",
    "}\n",
    "for value in education_data:\n",
    "    if value == 4.0:\n",
    "        education_dict[\"university or more\"] += 1\n",
    "    if value == 3.0:\n",
    "        education_dict[\"college\"] += 1\n",
    "    if value == 2.0:\n",
    "        education_dict[\"high school\"] += 1\n",
    "    if value == 1.0:\n",
    "        education_dict[\"less than high school\"] += 1\n",
    "    try:\n",
    "        value == 5.0\n",
    "    except Exception as ex:\n",
    "        pass\n",
    "education_dict\n",
    "        \n",
    "    \n",
    "\n",
    "\n",
    "\n",
    "\n"
   ]
  }
 ],
 "metadata": {
  "kernelspec": {
   "display_name": "Python 3",
   "language": "python",
   "name": "python3"
  },
  "language_info": {
   "codemirror_mode": {
    "name": "ipython",
    "version": 3
   },
   "file_extension": ".py",
   "mimetype": "text/x-python",
   "name": "python",
   "nbconvert_exporter": "python",
   "pygments_lexer": "ipython3",
   "version": "3.4.3"
  }
 },
 "nbformat": 4,
 "nbformat_minor": 0
}
